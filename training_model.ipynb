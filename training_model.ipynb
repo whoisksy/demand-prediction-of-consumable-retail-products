{
  "nbformat": 4,
  "nbformat_minor": 0,
  "metadata": {
    "colab": {
      "name": "phd-model-with-unit-revenue-mean.ipynb",
      "provenance": [],
      "collapsed_sections": [],
      "machine_shape": "hm"
    },
    "kernelspec": {
      "name": "python3",
      "display_name": "Python 3"
    },
    "accelerator": "GPU"
  },
  "cells": [
    {
      "cell_type": "markdown",
      "metadata": {
        "id": "mc5CCxzPLZ5W",
        "colab_type": "text"
      },
      "source": [
        "# Model Training Dataset\n",
        "* Training on train dataset using mean value for category column demand unit and revenue."
      ]
    },
    {
      "cell_type": "markdown",
      "metadata": {
        "id": "OzAC-i5ZH1Sa",
        "colab_type": "text"
      },
      "source": [
        "##Importing required libraries"
      ]
    },
    {
      "cell_type": "code",
      "metadata": {
        "id": "BMAM1x4KlfrR",
        "colab_type": "code",
        "colab": {}
      },
      "source": [
        "import numpy as np\n",
        "import scipy as sp\n",
        "import pandas as pd\n",
        "import seaborn as sns\n",
        "import matplotlib.pyplot as plt\n",
        "import dateutil.parser as dparser\n",
        "import random\n",
        "from sklearn.preprocessing import RobustScaler\n",
        "from sklearn import preprocessing\n",
        "from sklearn.linear_model import LinearRegression\n",
        "from sklearn.tree import tree\n",
        "from sklearn.metrics import mean_squared_error, r2_score\n",
        "import pickle\n",
        "import warnings\n",
        "warnings.simplefilter(action='ignore', category=FutureWarning)"
      ],
      "execution_count": 0,
      "outputs": []
    },
    {
      "cell_type": "markdown",
      "metadata": {
        "id": "XGKP1M5_H5_s",
        "colab_type": "text"
      },
      "source": [
        "## Mount Google drive"
      ]
    },
    {
      "cell_type": "code",
      "metadata": {
        "id": "O52DgnSGlrH6",
        "colab_type": "code",
        "colab": {
          "base_uri": "https://localhost:8080/",
          "height": 34
        },
        "outputId": "46f4d041-ad1f-45db-eda2-3ea8b40b0778"
      },
      "source": [
        "from google.colab import drive\n",
        "drive.mount('/content/gdrive')\n",
        "path = '/content/gdrive/My Drive/' "
      ],
      "execution_count": 2,
      "outputs": [
        {
          "output_type": "stream",
          "text": [
            "Drive already mounted at /content/gdrive; to attempt to forcibly remount, call drive.mount(\"/content/gdrive\", force_remount=True).\n"
          ],
          "name": "stdout"
        }
      ]
    },
    {
      "cell_type": "markdown",
      "metadata": {
        "id": "VYUVRK-7H9Q_",
        "colab_type": "text"
      },
      "source": [
        "## Import train data"
      ]
    },
    {
      "cell_type": "code",
      "metadata": {
        "id": "hIFPzyeHlyW6",
        "colab_type": "code",
        "colab": {
          "base_uri": "https://localhost:8080/",
          "height": 309
        },
        "outputId": "715908d1-f9b3-4ee4-ae52-696f7d6aa0b3"
      },
      "source": [
        "train=pd.read_csv(path+'train.csv', header=0)\n",
        "train.head()"
      ],
      "execution_count": 3,
      "outputs": [
        {
          "output_type": "execute_result",
          "data": {
            "text/html": [
              "<div>\n",
              "<style scoped>\n",
              "    .dataframe tbody tr th:only-of-type {\n",
              "        vertical-align: middle;\n",
              "    }\n",
              "\n",
              "    .dataframe tbody tr th {\n",
              "        vertical-align: top;\n",
              "    }\n",
              "\n",
              "    .dataframe thead th {\n",
              "        text-align: right;\n",
              "    }\n",
              "</style>\n",
              "<table border=\"1\" class=\"dataframe\">\n",
              "  <thead>\n",
              "    <tr style=\"text-align: right;\">\n",
              "      <th></th>\n",
              "      <th>experiment_week</th>\n",
              "      <th>channel_type</th>\n",
              "      <th>num_units_sold_in_week</th>\n",
              "      <th>sales_revenue_in_week</th>\n",
              "      <th>num_units_returned</th>\n",
              "      <th>returned_units_revenue_loss</th>\n",
              "      <th>store_identifier</th>\n",
              "      <th>product_identifier</th>\n",
              "      <th>category_of_route</th>\n",
              "      <th>supplier_identifier</th>\n",
              "    </tr>\n",
              "  </thead>\n",
              "  <tbody>\n",
              "    <tr>\n",
              "      <th>0</th>\n",
              "      <td>Week 1 of 2019</td>\n",
              "      <td>Warehouse Retailers</td>\n",
              "      <td>3</td>\n",
              "      <td>377.1</td>\n",
              "      <td>0</td>\n",
              "      <td>0.0</td>\n",
              "      <td>store_fc6aa</td>\n",
              "      <td>product_cbfad</td>\n",
              "      <td>route_67047</td>\n",
              "      <td>supplier_identifier_055f7</td>\n",
              "    </tr>\n",
              "    <tr>\n",
              "      <th>1</th>\n",
              "      <td>Week 1 of 2019</td>\n",
              "      <td>Warehouse Retailers</td>\n",
              "      <td>4</td>\n",
              "      <td>502.8</td>\n",
              "      <td>0</td>\n",
              "      <td>0.0</td>\n",
              "      <td>store_fc6aa</td>\n",
              "      <td>product_2b363</td>\n",
              "      <td>route_67047</td>\n",
              "      <td>supplier_identifier_055f7</td>\n",
              "    </tr>\n",
              "    <tr>\n",
              "      <th>2</th>\n",
              "      <td>Week 1 of 2019</td>\n",
              "      <td>Warehouse Retailers</td>\n",
              "      <td>4</td>\n",
              "      <td>589.8</td>\n",
              "      <td>0</td>\n",
              "      <td>0.0</td>\n",
              "      <td>store_fc6aa</td>\n",
              "      <td>product_8de14</td>\n",
              "      <td>route_67047</td>\n",
              "      <td>supplier_identifier_055f7</td>\n",
              "    </tr>\n",
              "    <tr>\n",
              "      <th>3</th>\n",
              "      <td>Week 1 of 2019</td>\n",
              "      <td>Warehouse Retailers</td>\n",
              "      <td>4</td>\n",
              "      <td>502.8</td>\n",
              "      <td>0</td>\n",
              "      <td>0.0</td>\n",
              "      <td>store_fc6aa</td>\n",
              "      <td>product_1c00e</td>\n",
              "      <td>route_67047</td>\n",
              "      <td>supplier_identifier_055f7</td>\n",
              "    </tr>\n",
              "    <tr>\n",
              "      <th>4</th>\n",
              "      <td>Week 1 of 2019</td>\n",
              "      <td>Warehouse Retailers</td>\n",
              "      <td>3</td>\n",
              "      <td>343.8</td>\n",
              "      <td>0</td>\n",
              "      <td>0.0</td>\n",
              "      <td>store_fc6aa</td>\n",
              "      <td>product_55001</td>\n",
              "      <td>route_67047</td>\n",
              "      <td>supplier_identifier_055f7</td>\n",
              "    </tr>\n",
              "  </tbody>\n",
              "</table>\n",
              "</div>"
            ],
            "text/plain": [
              "  experiment_week  ...        supplier_identifier\n",
              "0  Week 1 of 2019  ...  supplier_identifier_055f7\n",
              "1  Week 1 of 2019  ...  supplier_identifier_055f7\n",
              "2  Week 1 of 2019  ...  supplier_identifier_055f7\n",
              "3  Week 1 of 2019  ...  supplier_identifier_055f7\n",
              "4  Week 1 of 2019  ...  supplier_identifier_055f7\n",
              "\n",
              "[5 rows x 10 columns]"
            ]
          },
          "metadata": {
            "tags": []
          },
          "execution_count": 3
        }
      ]
    },
    {
      "cell_type": "markdown",
      "metadata": {
        "id": "LZY49jbZIEAz",
        "colab_type": "text"
      },
      "source": [
        "## Data pre-processing"
      ]
    },
    {
      "cell_type": "code",
      "metadata": {
        "id": "qiGehBt9l5QP",
        "colab_type": "code",
        "colab": {
          "base_uri": "https://localhost:8080/",
          "height": 34
        },
        "outputId": "9a8b44ca-f92a-46b0-e5be-ddffd93ff62a"
      },
      "source": [
        "data = train.copy()\n",
        "data.shape"
      ],
      "execution_count": 4,
      "outputs": [
        {
          "output_type": "execute_result",
          "data": {
            "text/plain": [
              "(53364883, 10)"
            ]
          },
          "metadata": {
            "tags": []
          },
          "execution_count": 4
        }
      ]
    },
    {
      "cell_type": "markdown",
      "metadata": {
        "id": "_z6rosVrIRVJ",
        "colab_type": "text"
      },
      "source": [
        "### Generating column demand and revenue\n",
        "* Column for unit of demand is generated by subtracting units returned by units sold in week\n",
        "* Column for revenue generated by sutracting revenue loss on returned unit by revenue on sales in a week"
      ]
    },
    {
      "cell_type": "code",
      "metadata": {
        "id": "uzO39UcCl7iP",
        "colab_type": "code",
        "colab": {}
      },
      "source": [
        "data['demand'] = data['num_units_sold_in_week'] - data['num_units_returned']\n",
        "data['revenue'] = data['sales_revenue_in_week'] - data['returned_units_revenue_loss']"
      ],
      "execution_count": 0,
      "outputs": []
    },
    {
      "cell_type": "markdown",
      "metadata": {
        "id": "JzCxpD86Iqu2",
        "colab_type": "text"
      },
      "source": [
        "### Droping columns  \n",
        "* For prediction we need to train model with values for experiment_week, channel_type, store_identifier, product_identifier, category_of_route, supplier_identifier.\n",
        "* Therefore, droping colums 'sales_revenue_in_week', 'num_units_sold_in_week', 'returned_units_revenue_loss', 'num_units_returned'"
      ]
    },
    {
      "cell_type": "code",
      "metadata": {
        "id": "ztct9lB7mBE6",
        "colab_type": "code",
        "colab": {
          "base_uri": "https://localhost:8080/",
          "height": 170
        },
        "outputId": "3e53609c-f79c-46be-bef1-3d18347d7e9d"
      },
      "source": [
        "colDrop = ['sales_revenue_in_week', 'num_units_sold_in_week', 'returned_units_revenue_loss', 'num_units_returned']\n",
        "cols = list(data.columns)\n",
        "for c in colDrop:\n",
        "  cols.remove(c)\n",
        "\n",
        "data = data.loc[:, cols]\n",
        "data.dtypes"
      ],
      "execution_count": 6,
      "outputs": [
        {
          "output_type": "execute_result",
          "data": {
            "text/plain": [
              "experiment_week         object\n",
              "channel_type            object\n",
              "store_identifier        object\n",
              "product_identifier      object\n",
              "category_of_route       object\n",
              "supplier_identifier     object\n",
              "demand                   int64\n",
              "revenue                float64\n",
              "dtype: object"
            ]
          },
          "metadata": {
            "tags": []
          },
          "execution_count": 6
        }
      ]
    },
    {
      "cell_type": "markdown",
      "metadata": {
        "id": "9Lj0wWGnIucH",
        "colab_type": "text"
      },
      "source": [
        "### Generating values for each value in category columns\n",
        "* Values for each unique entry in category column is generated by grouping the data with column and mean of demand column and mean of the revenue column."
      ]
    },
    {
      "cell_type": "code",
      "metadata": {
        "id": "FVFHZledmDQX",
        "colab_type": "code",
        "colab": {}
      },
      "source": [
        "# cols = ['channel_type','product_identifier','category_of_route','supplier_identifier','store_identifier', 'experiment_week']\n",
        "# for c in cols:\n",
        "#   print(c+'...Processing')\n",
        "#   temp = data.groupby(c)['demand'].mean()\n",
        "#   temp = temp.reset_index()\n",
        "#   temp.to_csv(path+c+'_mean.csv', index=False)\n",
        "#   del temp\n",
        "#   print('Done')"
      ],
      "execution_count": 0,
      "outputs": []
    },
    {
      "cell_type": "code",
      "metadata": {
        "id": "iPMhGZDWmLl3",
        "colab_type": "code",
        "colab": {}
      },
      "source": [
        "# cols = ['channel_type','product_identifier','category_of_route','supplier_identifier','store_identifier', 'experiment_week']\n",
        "# for c in cols:\n",
        "#   print(c+'...Processing')\n",
        "#   temp = data.groupby(c)['revenue'].mean()\n",
        "#   temp = temp.reset_index()\n",
        "#   temp.to_csv(path+c+'_mean_revenue.csv', index=False)\n",
        "#   del temp\n",
        "#   print('Done')"
      ],
      "execution_count": 0,
      "outputs": []
    },
    {
      "cell_type": "markdown",
      "metadata": {
        "id": "3eg3C6uHI8wX",
        "colab_type": "text"
      },
      "source": [
        "### Importing and merging the colums\n",
        "* Importing and merging the colums generated for category columns with dataset."
      ]
    },
    {
      "cell_type": "code",
      "metadata": {
        "id": "w1ymfPv1mL-q",
        "colab_type": "code",
        "colab": {
          "base_uri": "https://localhost:8080/",
          "height": 221
        },
        "outputId": "264fc4b2-db28-44f2-890d-2e93f1840003"
      },
      "source": [
        "cols = ['channel_type','product_identifier','category_of_route','supplier_identifier','store_identifier', 'experiment_week']\n",
        "for c in cols:\n",
        "  print(c+'...Processing')\n",
        "  temp = pd.read_csv('/content/gdrive/My Drive/'+c+'_mean.csv', header=0)\n",
        "  temp = temp.set_index(c)\n",
        "  temp.columns = [c+'_value']\n",
        "  data = data.merge(temp, right_index=True, left_on = c, how='left')\n",
        "  data.fillna(temp.mean(), inplace=True)\n",
        "  print('Done')\n",
        "  del temp"
      ],
      "execution_count": 7,
      "outputs": [
        {
          "output_type": "stream",
          "text": [
            "channel_type...Processing\n",
            "Done\n",
            "product_identifier...Processing\n",
            "Done\n",
            "category_of_route...Processing\n",
            "Done\n",
            "supplier_identifier...Processing\n",
            "Done\n",
            "store_identifier...Processing\n",
            "Done\n",
            "experiment_week...Processing\n",
            "Done\n"
          ],
          "name": "stdout"
        }
      ]
    },
    {
      "cell_type": "code",
      "metadata": {
        "id": "WxsaoVgbmToG",
        "colab_type": "code",
        "colab": {
          "base_uri": "https://localhost:8080/",
          "height": 221
        },
        "outputId": "823301fc-bd17-4950-c751-e570cd1287ab"
      },
      "source": [
        "cols = ['channel_type','product_identifier','category_of_route','supplier_identifier','store_identifier', 'experiment_week']\n",
        "for c in cols:\n",
        "  print(c+'...Processing')\n",
        "  temp = pd.read_csv('/content/gdrive/My Drive/'+c+'_mean_revenue.csv', header=0)\n",
        "  temp = temp.set_index(c)\n",
        "  temp.columns = [c+'_value_revenue']\n",
        "  data = data.merge(temp, right_index=True, left_on = c, how='left')\n",
        "  data.fillna(temp.mean(), inplace=True)\n",
        "  print('Done')\n",
        "  del temp"
      ],
      "execution_count": 8,
      "outputs": [
        {
          "output_type": "stream",
          "text": [
            "channel_type...Processing\n",
            "Done\n",
            "product_identifier...Processing\n",
            "Done\n",
            "category_of_route...Processing\n",
            "Done\n",
            "supplier_identifier...Processing\n",
            "Done\n",
            "store_identifier...Processing\n",
            "Done\n",
            "experiment_week...Processing\n",
            "Done\n"
          ],
          "name": "stdout"
        }
      ]
    },
    {
      "cell_type": "markdown",
      "metadata": {
        "id": "I3n2pvydJBMP",
        "colab_type": "text"
      },
      "source": [
        "### Assigning new generated columns to numerical attribute list"
      ]
    },
    {
      "cell_type": "code",
      "metadata": {
        "id": "Bue3vofum5FR",
        "colab_type": "code",
        "colab": {}
      },
      "source": [
        "numAttributes = ['experiment_week_value', 'channel_type_value', 'product_identifier_value', 'category_of_route_value', 'supplier_identifier_value', 'store_identifier_value'] \n",
        "numAttributesRevenue = ['experiment_week_value_revenue', 'channel_type_value_revenue', 'product_identifier_value_revenue', 'category_of_route_value_revenue', 'supplier_identifier_value_revenue', 'store_identifier_value_revenue']\n"
      ],
      "execution_count": 0,
      "outputs": []
    },
    {
      "cell_type": "markdown",
      "metadata": {
        "id": "1Bvb7XbvJGcf",
        "colab_type": "text"
      },
      "source": [
        "### Generate new dataset with generated columns and demand"
      ]
    },
    {
      "cell_type": "code",
      "metadata": {
        "id": "gSGeDJypnFZF",
        "colab_type": "code",
        "colab": {
          "base_uri": "https://localhost:8080/",
          "height": 224
        },
        "outputId": "f3b82296-ca56-4789-a3d9-8f48ed94fe68"
      },
      "source": [
        "cols = numAttributes[:]\n",
        "cols.extend(numAttributesRevenue)\n",
        "cols.extend(['experiment_week', 'demand'])\n",
        "data = data.loc[:, cols]\n",
        "data.head()"
      ],
      "execution_count": 10,
      "outputs": [
        {
          "output_type": "execute_result",
          "data": {
            "text/html": [
              "<div>\n",
              "<style scoped>\n",
              "    .dataframe tbody tr th:only-of-type {\n",
              "        vertical-align: middle;\n",
              "    }\n",
              "\n",
              "    .dataframe tbody tr th {\n",
              "        vertical-align: top;\n",
              "    }\n",
              "\n",
              "    .dataframe thead th {\n",
              "        text-align: right;\n",
              "    }\n",
              "</style>\n",
              "<table border=\"1\" class=\"dataframe\">\n",
              "  <thead>\n",
              "    <tr style=\"text-align: right;\">\n",
              "      <th></th>\n",
              "      <th>experiment_week_value</th>\n",
              "      <th>channel_type_value</th>\n",
              "      <th>product_identifier_value</th>\n",
              "      <th>category_of_route_value</th>\n",
              "      <th>supplier_identifier_value</th>\n",
              "      <th>store_identifier_value</th>\n",
              "      <th>experiment_week_value_revenue</th>\n",
              "      <th>channel_type_value_revenue</th>\n",
              "      <th>product_identifier_value_revenue</th>\n",
              "      <th>category_of_route_value_revenue</th>\n",
              "      <th>supplier_identifier_value_revenue</th>\n",
              "      <th>store_identifier_value_revenue</th>\n",
              "      <th>experiment_week</th>\n",
              "      <th>demand</th>\n",
              "    </tr>\n",
              "  </thead>\n",
              "  <tbody>\n",
              "    <tr>\n",
              "      <th>0</th>\n",
              "      <td>6.917377</td>\n",
              "      <td>15.017412</td>\n",
              "      <td>2.892015</td>\n",
              "      <td>18.366894</td>\n",
              "      <td>15.317277</td>\n",
              "      <td>5.561404</td>\n",
              "      <td>1004.538003</td>\n",
              "      <td>2666.267983</td>\n",
              "      <td>370.914958</td>\n",
              "      <td>4172.460749</td>\n",
              "      <td>2522.904163</td>\n",
              "      <td>572.50193</td>\n",
              "      <td>Week 1 of 2019</td>\n",
              "      <td>3</td>\n",
              "    </tr>\n",
              "    <tr>\n",
              "      <th>1</th>\n",
              "      <td>6.917377</td>\n",
              "      <td>15.017412</td>\n",
              "      <td>3.097100</td>\n",
              "      <td>18.366894</td>\n",
              "      <td>15.317277</td>\n",
              "      <td>5.561404</td>\n",
              "      <td>1004.538003</td>\n",
              "      <td>2666.267983</td>\n",
              "      <td>397.119289</td>\n",
              "      <td>4172.460749</td>\n",
              "      <td>2522.904163</td>\n",
              "      <td>572.50193</td>\n",
              "      <td>Week 1 of 2019</td>\n",
              "      <td>4</td>\n",
              "    </tr>\n",
              "    <tr>\n",
              "      <th>2</th>\n",
              "      <td>6.917377</td>\n",
              "      <td>15.017412</td>\n",
              "      <td>3.207031</td>\n",
              "      <td>18.366894</td>\n",
              "      <td>15.317277</td>\n",
              "      <td>5.561404</td>\n",
              "      <td>1004.538003</td>\n",
              "      <td>2666.267983</td>\n",
              "      <td>488.584298</td>\n",
              "      <td>4172.460749</td>\n",
              "      <td>2522.904163</td>\n",
              "      <td>572.50193</td>\n",
              "      <td>Week 1 of 2019</td>\n",
              "      <td>4</td>\n",
              "    </tr>\n",
              "    <tr>\n",
              "      <th>3</th>\n",
              "      <td>6.917377</td>\n",
              "      <td>15.017412</td>\n",
              "      <td>5.702623</td>\n",
              "      <td>18.366894</td>\n",
              "      <td>15.317277</td>\n",
              "      <td>5.561404</td>\n",
              "      <td>1004.538003</td>\n",
              "      <td>2666.267983</td>\n",
              "      <td>738.029584</td>\n",
              "      <td>4172.460749</td>\n",
              "      <td>2522.904163</td>\n",
              "      <td>572.50193</td>\n",
              "      <td>Week 1 of 2019</td>\n",
              "      <td>4</td>\n",
              "    </tr>\n",
              "    <tr>\n",
              "      <th>4</th>\n",
              "      <td>6.917377</td>\n",
              "      <td>15.017412</td>\n",
              "      <td>5.133843</td>\n",
              "      <td>18.366894</td>\n",
              "      <td>15.317277</td>\n",
              "      <td>5.561404</td>\n",
              "      <td>1004.538003</td>\n",
              "      <td>2666.267983</td>\n",
              "      <td>595.015673</td>\n",
              "      <td>4172.460749</td>\n",
              "      <td>2522.904163</td>\n",
              "      <td>572.50193</td>\n",
              "      <td>Week 1 of 2019</td>\n",
              "      <td>3</td>\n",
              "    </tr>\n",
              "  </tbody>\n",
              "</table>\n",
              "</div>"
            ],
            "text/plain": [
              "   experiment_week_value  channel_type_value  ...  experiment_week  demand\n",
              "0               6.917377           15.017412  ...   Week 1 of 2019       3\n",
              "1               6.917377           15.017412  ...   Week 1 of 2019       4\n",
              "2               6.917377           15.017412  ...   Week 1 of 2019       4\n",
              "3               6.917377           15.017412  ...   Week 1 of 2019       4\n",
              "4               6.917377           15.017412  ...   Week 1 of 2019       3\n",
              "\n",
              "[5 rows x 14 columns]"
            ]
          },
          "metadata": {
            "tags": []
          },
          "execution_count": 10
        }
      ]
    },
    {
      "cell_type": "markdown",
      "metadata": {
        "id": "EqsiPpxDJJ9x",
        "colab_type": "text"
      },
      "source": [
        "### Correlation chart between numerical attributes"
      ]
    },
    {
      "cell_type": "code",
      "metadata": {
        "id": "bPGGJQt0nO_2",
        "colab_type": "code",
        "colab": {
          "base_uri": "https://localhost:8080/",
          "height": 771
        },
        "outputId": "7d2a9ead-f6fb-4900-894f-52a512d3eb76"
      },
      "source": [
        "corr = data[cols].corr()\n",
        "fig, ax = plt.subplots(figsize=(10, 10)) \n",
        "mask = np.zeros_like(corr)\n",
        "mask[np.triu_indices_from(mask)] = 1\n",
        "sns.heatmap(corr, mask= mask, ax= ax, annot= True)"
      ],
      "execution_count": 11,
      "outputs": [
        {
          "output_type": "execute_result",
          "data": {
            "text/plain": [
              "<matplotlib.axes._subplots.AxesSubplot at 0x7f90907b1b38>"
            ]
          },
          "metadata": {
            "tags": []
          },
          "execution_count": 11
        },
        {
          "output_type": "display_data",
          "data": {
            "image/png": "[encoded data removed]",
            "text/plain": [
              "<Figure size 720x720 with 2 Axes>"
            ]
          },
          "metadata": {
            "tags": []
          }
        }
      ]
    },
    {
      "cell_type": "markdown",
      "metadata": {
        "id": "-OE17ArXJMCV",
        "colab_type": "text"
      },
      "source": [
        "### Drop Column 'experiment_week_value' and 'experiment_week_value_revenue'\n",
        "* Droping column 'experiment_week_value' and 'experiment_week_value_revenue' as it is nearly a contant value"
      ]
    },
    {
      "cell_type": "code",
      "metadata": {
        "id": "YHnZb1I7nVUF",
        "colab_type": "code",
        "colab": {}
      },
      "source": [
        "data.drop('experiment_week_value', axis = 1, inplace=True)\n",
        "numAttributes.remove('experiment_week_value')\n",
        "data.drop('experiment_week_value_revenue', axis = 1, inplace=True)\n",
        "numAttributesRevenue.remove('experiment_week_value_revenue')"
      ],
      "execution_count": 0,
      "outputs": []
    },
    {
      "cell_type": "markdown",
      "metadata": {
        "id": "lI0M5sqhKHNE",
        "colab_type": "text"
      },
      "source": [
        "### Converting numAttributes to int16 datatype\n",
        "* To save memory on RAM and setting values to round-up value, converting numAttributes to int16 datatype from float64 and numAttributesRevenue to float32 from float64"
      ]
    },
    {
      "cell_type": "code",
      "metadata": {
        "id": "MAyc1fEon2Kg",
        "colab_type": "code",
        "colab": {
          "base_uri": "https://localhost:8080/",
          "height": 221
        },
        "outputId": "88197b31-6793-49b7-a68f-dd4d9204b658"
      },
      "source": [
        "for cols in numAttributes:\n",
        "  data[cols] = data[cols].astype('int16')\n",
        "data.dtypes"
      ],
      "execution_count": 15,
      "outputs": [
        {
          "output_type": "execute_result",
          "data": {
            "text/plain": [
              "channel_type_value                     int16\n",
              "product_identifier_value               int16\n",
              "category_of_route_value                int16\n",
              "supplier_identifier_value              int16\n",
              "store_identifier_value                 int16\n",
              "channel_type_value_revenue           float64\n",
              "product_identifier_value_revenue     float64\n",
              "category_of_route_value_revenue      float64\n",
              "supplier_identifier_value_revenue    float64\n",
              "store_identifier_value_revenue       float64\n",
              "demand                                 int64\n",
              "dtype: object"
            ]
          },
          "metadata": {
            "tags": []
          },
          "execution_count": 15
        }
      ]
    },
    {
      "cell_type": "code",
      "metadata": {
        "id": "pbRM43v4n4XV",
        "colab_type": "code",
        "colab": {
          "base_uri": "https://localhost:8080/",
          "height": 221
        },
        "outputId": "85123c20-f3e2-4b2e-d6a2-1ba3503af7d1"
      },
      "source": [
        "for cols in numAttributesRevenue:\n",
        "  data[cols] = data[cols].astype('float32')\n",
        "data.dtypes"
      ],
      "execution_count": 16,
      "outputs": [
        {
          "output_type": "execute_result",
          "data": {
            "text/plain": [
              "channel_type_value                     int16\n",
              "product_identifier_value               int16\n",
              "category_of_route_value                int16\n",
              "supplier_identifier_value              int16\n",
              "store_identifier_value                 int16\n",
              "channel_type_value_revenue           float32\n",
              "product_identifier_value_revenue     float32\n",
              "category_of_route_value_revenue      float32\n",
              "supplier_identifier_value_revenue    float32\n",
              "store_identifier_value_revenue       float32\n",
              "demand                                 int64\n",
              "dtype: object"
            ]
          },
          "metadata": {
            "tags": []
          },
          "execution_count": 16
        }
      ]
    },
    {
      "cell_type": "markdown",
      "metadata": {
        "id": "n-AbVfFNKR64",
        "colab_type": "text"
      },
      "source": [
        "## Training and testing models"
      ]
    },
    {
      "cell_type": "markdown",
      "metadata": {
        "id": "aI3Hie7HKTPT",
        "colab_type": "text"
      },
      "source": [
        "### Defining function for matrice.\n",
        "* RMSE is the matrice used."
      ]
    },
    {
      "cell_type": "code",
      "metadata": {
        "id": "j_rF8n4en8br",
        "colab_type": "code",
        "colab": {}
      },
      "source": [
        "def matrice(model):\n",
        "  y_predicted = model.predict(X_train)\n",
        "  print('Train RMSE: ', np.sqrt(mean_squared_error(y_train, y_predicted)))\n",
        "  \n",
        "  y_predicted = model.predict(X_test)\n",
        "  print('Test RMSE: ', np.sqrt(mean_squared_error(y_test, y_predicted)))"
      ],
      "execution_count": 0,
      "outputs": []
    },
    {
      "cell_type": "markdown",
      "metadata": {
        "id": "QExeAiHFKVsH",
        "colab_type": "text"
      },
      "source": [
        "### Index of Starting of Week 5 data"
      ]
    },
    {
      "cell_type": "code",
      "metadata": {
        "id": "LXDc48KDnwi9",
        "colab_type": "code",
        "colab": {
          "base_uri": "https://localhost:8080/",
          "height": 34
        },
        "outputId": "cd143865-9bfc-40a8-bbe6-e2f11c0b8c34"
      },
      "source": [
        "indx = data[data['experiment_week'] == 'Week 5 of 2019'].index[0]\n",
        "indx"
      ],
      "execution_count": 13,
      "outputs": [
        {
          "output_type": "execute_result",
          "data": {
            "text/plain": [
              "42982034"
            ]
          },
          "metadata": {
            "tags": []
          },
          "execution_count": 13
        }
      ]
    },
    {
      "cell_type": "markdown",
      "metadata": {
        "id": "k6xHCZD4KYg-",
        "colab_type": "text"
      },
      "source": [
        "### Dropping column 'experiment_week'"
      ]
    },
    {
      "cell_type": "code",
      "metadata": {
        "id": "kEpq1ng6n0SH",
        "colab_type": "code",
        "colab": {}
      },
      "source": [
        "data.drop('experiment_week', axis = 1, inplace=True)"
      ],
      "execution_count": 0,
      "outputs": []
    },
    {
      "cell_type": "markdown",
      "metadata": {
        "id": "plP2IXR5KcUV",
        "colab_type": "text"
      },
      "source": [
        "### Splitting train and validation data set"
      ]
    },
    {
      "cell_type": "code",
      "metadata": {
        "id": "ihkrKKu1n-VE",
        "colab_type": "code",
        "colab": {}
      },
      "source": [
        "X_train = data.loc[:indx, data.columns != 'demand'].values\n",
        "X_test = data.loc[indx:, data.columns != 'demand'].values"
      ],
      "execution_count": 0,
      "outputs": []
    },
    {
      "cell_type": "code",
      "metadata": {
        "id": "d6BbTu6woABO",
        "colab_type": "code",
        "colab": {
          "base_uri": "https://localhost:8080/",
          "height": 34
        },
        "outputId": "8c1b8a62-6e09-46fc-a79c-4ca7614e14f9"
      },
      "source": [
        "y_train = data.loc[:indx,'demand'].values\n",
        "y_test = data.loc[indx:,'demand'].values\n",
        "X_train.shape, y_train.shape, X_test.shape, y_test.shape"
      ],
      "execution_count": 21,
      "outputs": [
        {
          "output_type": "execute_result",
          "data": {
            "text/plain": [
              "((42982035, 10), (42982035,), (10382849, 10), (10382849,))"
            ]
          },
          "metadata": {
            "tags": []
          },
          "execution_count": 21
        }
      ]
    },
    {
      "cell_type": "markdown",
      "metadata": {
        "id": "3MPw6wWIKiS-",
        "colab_type": "text"
      },
      "source": [
        "### Modeling using Linear Regression"
      ]
    },
    {
      "cell_type": "code",
      "metadata": {
        "id": "up-G0I71oB3_",
        "colab_type": "code",
        "colab": {}
      },
      "source": [
        "linearRegression = LinearRegression()  \n",
        "linearRegression = linearRegression.fit(X_train, y_train)"
      ],
      "execution_count": 0,
      "outputs": []
    },
    {
      "cell_type": "code",
      "metadata": {
        "id": "ybDHA51SoDoV",
        "colab_type": "code",
        "colab": {
          "base_uri": "https://localhost:8080/",
          "height": 51
        },
        "outputId": "dc08a38d-b241-487f-b476-c1e4f7c1799d"
      },
      "source": [
        "matrice(linearRegression)"
      ],
      "execution_count": 23,
      "outputs": [
        {
          "output_type": "stream",
          "text": [
            "Train RMSE:  16.928583681676304\n",
            "Test RMSE:  16.81194511538107\n"
          ],
          "name": "stdout"
        }
      ]
    },
    {
      "cell_type": "markdown",
      "metadata": {
        "id": "8QRSJDFNKmB8",
        "colab_type": "text"
      },
      "source": [
        "### Modeling using Decision Tree"
      ]
    },
    {
      "cell_type": "code",
      "metadata": {
        "id": "rOnNzuwzoFMG",
        "colab_type": "code",
        "colab": {}
      },
      "source": [
        "decisionTree = tree.DecisionTreeRegressor()\n",
        "decisionTree = decisionTree.fit(X_train, y_train)"
      ],
      "execution_count": 0,
      "outputs": []
    },
    {
      "cell_type": "code",
      "metadata": {
        "id": "RofGU1FooHAz",
        "colab_type": "code",
        "colab": {
          "base_uri": "https://localhost:8080/",
          "height": 51
        },
        "outputId": "b3a328e2-0926-4712-e740-dc985e9cce4a"
      },
      "source": [
        "matrice(decisionTree)"
      ],
      "execution_count": 25,
      "outputs": [
        {
          "output_type": "stream",
          "text": [
            "Train RMSE:  6.8295577912048\n",
            "Test RMSE:  11.285578643424738\n"
          ],
          "name": "stdout"
        }
      ]
    },
    {
      "cell_type": "markdown",
      "metadata": {
        "id": "l7dwQg5jKqYs",
        "colab_type": "text"
      },
      "source": [
        "## Training models on whole dataset"
      ]
    },
    {
      "cell_type": "markdown",
      "metadata": {
        "id": "_miavUw7Ktww",
        "colab_type": "text"
      },
      "source": [
        "### Setting up features and target from pre-processed dataset"
      ]
    },
    {
      "cell_type": "code",
      "metadata": {
        "id": "hZWQtpb2ugV2",
        "colab_type": "code",
        "colab": {}
      },
      "source": [
        "X_train = data.loc[:, data.columns != 'demand'].values"
      ],
      "execution_count": 0,
      "outputs": []
    },
    {
      "cell_type": "code",
      "metadata": {
        "id": "EV14QJenup7H",
        "colab_type": "code",
        "colab": {
          "base_uri": "https://localhost:8080/",
          "height": 34
        },
        "outputId": "118bc114-999b-4a34-b7c3-bae17d4db2e8"
      },
      "source": [
        "y_train = data.loc[:,'demand'].values\n",
        "X_train.shape, y_train.shape"
      ],
      "execution_count": 19,
      "outputs": [
        {
          "output_type": "execute_result",
          "data": {
            "text/plain": [
              "((53364883, 10), (53364883,))"
            ]
          },
          "metadata": {
            "tags": []
          },
          "execution_count": 19
        }
      ]
    },
    {
      "cell_type": "markdown",
      "metadata": {
        "id": "k9SLhsH6Kw8m",
        "colab_type": "text"
      },
      "source": [
        "### Training and saving all the models"
      ]
    },
    {
      "cell_type": "code",
      "metadata": {
        "id": "00lHbNj0ur37",
        "colab_type": "code",
        "colab": {
          "base_uri": "https://localhost:8080/",
          "height": 68
        },
        "outputId": "5aa2def4-63b5-45f3-9b5e-f4ee0342d398"
      },
      "source": [
        "linearRegression = LinearRegression()\n",
        "print('Training...')  \n",
        "linearRegression = linearRegression.fit(X_train, y_train)\n",
        "print('Done')\n",
        "pickle.dump(linearRegression, open(path+'linearRegressionUnitRevenue.sav', 'wb'))\n",
        "print('Model Saved')"
      ],
      "execution_count": 20,
      "outputs": [
        {
          "output_type": "stream",
          "text": [
            "Training...\n",
            "Done\n",
            "Model Saved\n"
          ],
          "name": "stdout"
        }
      ]
    },
    {
      "cell_type": "code",
      "metadata": {
        "id": "anVZkrGeuvz6",
        "colab_type": "code",
        "colab": {
          "base_uri": "https://localhost:8080/",
          "height": 68
        },
        "outputId": "b3d970bc-8c1a-4335-adc8-b3cdea802f96"
      },
      "source": [
        "decisionTree = tree.DecisionTreeRegressor()\n",
        "print('Training...') \n",
        "decisionTree = decisionTree.fit(X_train, y_train)\n",
        "print('Done')\n",
        "pickle.dump(decisionTree, open(path+'decisionTreeUnitRevenue.sav', 'wb'))\n",
        "print('Model Saved')"
      ],
      "execution_count": 21,
      "outputs": [
        {
          "output_type": "stream",
          "text": [
            "Training...\n",
            "Done\n",
            "Model Saved\n"
          ],
          "name": "stdout"
        }
      ]
    }
  ]
}