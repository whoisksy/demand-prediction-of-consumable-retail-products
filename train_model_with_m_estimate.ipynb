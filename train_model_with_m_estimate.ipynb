{
  "nbformat": 4,
  "nbformat_minor": 0,
  "metadata": {
    "colab": {
      "name": "phd-model-with-m-estimate.ipynb",
      "provenance": [],
      "collapsed_sections": [],
      "machine_shape": "hm"
    },
    "kernelspec": {
      "name": "python3",
      "display_name": "Python 3"
    }
  },
  "cells": [
    {
      "cell_type": "markdown",
      "metadata": {
        "id": "Cnnuo8-qhjXn",
        "colab_type": "text"
      },
      "source": [
        "# Model Training Dataset\n",
        "* Training on train dataset using m-estimate encoder value for category columns."
      ]
    },
    {
      "cell_type": "markdown",
      "metadata": {
        "id": "8hM6LZPDiiTY",
        "colab_type": "text"
      },
      "source": [
        "##Importing required libraries"
      ]
    },
    {
      "cell_type": "code",
      "metadata": {
        "id": "IGiP1cY_x2uV",
        "colab_type": "code",
        "outputId": "f8719698-4055-4bb9-dd41-78aeb30881bd",
        "colab": {
          "base_uri": "https://localhost:8080/",
          "height": 292
        }
      },
      "source": [
        "import numpy as np\n",
        "import scipy as sp\n",
        "import pandas as pd\n",
        "import seaborn as sns\n",
        "import matplotlib.pyplot as plt\n",
        "import dateutil.parser as dparser\n",
        "import random\n",
        "from sklearn.preprocessing import RobustScaler\n",
        "from sklearn import preprocessing\n",
        "from sklearn.linear_model import LinearRegression\n",
        "from sklearn.neighbors import KNeighborsRegressor\n",
        "from sklearn.tree import tree\n",
        "from sklearn.ensemble import RandomForestRegressor\n",
        "from sklearn.metrics import mean_squared_error, r2_score\n",
        "import pickle\n",
        "import warnings\n",
        "warnings.simplefilter(action='ignore', category=FutureWarning)\n",
        "!pip install category_encoders\n",
        "from category_encoders import *"
      ],
      "execution_count": 0,
      "outputs": [
        {
          "output_type": "stream",
          "text": [
            "Collecting category_encoders\n",
            "\u001b[?25l  Downloading https://files.pythonhosted.org/packages/a0/52/c54191ad3782de633ea3d6ee3bb2837bda0cf3bc97644bb6375cf14150a0/category_encoders-2.1.0-py2.py3-none-any.whl (100kB)\n",
            "\r\u001b[K     |███▎                            | 10kB 17.9MB/s eta 0:00:01\r\u001b[K     |██████▌                         | 20kB 1.8MB/s eta 0:00:01\r\u001b[K     |█████████▉                      | 30kB 2.6MB/s eta 0:00:01\r\u001b[K     |█████████████                   | 40kB 1.7MB/s eta 0:00:01\r\u001b[K     |████████████████▍               | 51kB 2.1MB/s eta 0:00:01\r\u001b[K     |███████████████████▋            | 61kB 2.5MB/s eta 0:00:01\r\u001b[K     |██████████████████████▉         | 71kB 2.9MB/s eta 0:00:01\r\u001b[K     |██████████████████████████▏     | 81kB 3.3MB/s eta 0:00:01\r\u001b[K     |█████████████████████████████▍  | 92kB 3.7MB/s eta 0:00:01\r\u001b[K     |████████████████████████████████| 102kB 2.4MB/s \n",
            "\u001b[?25hRequirement already satisfied: numpy>=1.11.3 in /usr/local/lib/python3.6/dist-packages (from category_encoders) (1.17.4)\n",
            "Requirement already satisfied: scipy>=0.19.0 in /usr/local/lib/python3.6/dist-packages (from category_encoders) (1.3.3)\n",
            "Requirement already satisfied: statsmodels>=0.6.1 in /usr/local/lib/python3.6/dist-packages (from category_encoders) (0.10.2)\n",
            "Requirement already satisfied: pandas>=0.21.1 in /usr/local/lib/python3.6/dist-packages (from category_encoders) (0.25.3)\n",
            "Requirement already satisfied: patsy>=0.4.1 in /usr/local/lib/python3.6/dist-packages (from category_encoders) (0.5.1)\n",
            "Requirement already satisfied: scikit-learn>=0.20.0 in /usr/local/lib/python3.6/dist-packages (from category_encoders) (0.21.3)\n",
            "Requirement already satisfied: pytz>=2017.2 in /usr/local/lib/python3.6/dist-packages (from pandas>=0.21.1->category_encoders) (2018.9)\n",
            "Requirement already satisfied: python-dateutil>=2.6.1 in /usr/local/lib/python3.6/dist-packages (from pandas>=0.21.1->category_encoders) (2.6.1)\n",
            "Requirement already satisfied: six in /usr/local/lib/python3.6/dist-packages (from patsy>=0.4.1->category_encoders) (1.12.0)\n",
            "Requirement already satisfied: joblib>=0.11 in /usr/local/lib/python3.6/dist-packages (from scikit-learn>=0.20.0->category_encoders) (0.14.1)\n",
            "Installing collected packages: category-encoders\n",
            "Successfully installed category-encoders-2.1.0\n"
          ],
          "name": "stdout"
        }
      ]
    },
    {
      "cell_type": "markdown",
      "metadata": {
        "id": "QcjpDqvximEY",
        "colab_type": "text"
      },
      "source": [
        "## Mount Google drive"
      ]
    },
    {
      "cell_type": "code",
      "metadata": {
        "id": "GAlkeSXex-CA",
        "colab_type": "code",
        "outputId": "c575d4b2-27f7-4687-bb02-8b6dd53ba045",
        "colab": {
          "base_uri": "https://localhost:8080/",
          "height": 122
        }
      },
      "source": [
        "from google.colab import drive\n",
        "drive.mount('/content/gdrive')\n",
        "path = '/content/gdrive/My Drive/' "
      ],
      "execution_count": 0,
      "outputs": [
        {
          "output_type": "stream",
          "text": [
            "Go to this URL in a browser: https://accounts.google.com/o/oauth2/auth?client_id=947318989803-6bn6qk8qdgf4n4g3pfee6491hc0brc4i.apps.googleusercontent.com&redirect_uri=urn%3aietf%3awg%3aoauth%3a2.0%3aoob&response_type=code&scope=email%20https%3a%2f%2fwww.googleapis.com%2fauth%2fdocs.test%20https%3a%2f%2fwww.googleapis.com%2fauth%2fdrive%20https%3a%2f%2fwww.googleapis.com%2fauth%2fdrive.photos.readonly%20https%3a%2f%2fwww.googleapis.com%2fauth%2fpeopleapi.readonly\n",
            "\n",
            "Enter your authorization code:\n",
            "··········\n",
            "Mounted at /content/gdrive\n"
          ],
          "name": "stdout"
        }
      ]
    },
    {
      "cell_type": "markdown",
      "metadata": {
        "id": "lXHtSeQ5ipwq",
        "colab_type": "text"
      },
      "source": [
        "## Import train data"
      ]
    },
    {
      "cell_type": "code",
      "metadata": {
        "id": "GyUkV_fJyBdJ",
        "colab_type": "code",
        "outputId": "8524438e-5430-42fa-d694-8c12caafcc90",
        "colab": {
          "base_uri": "https://localhost:8080/",
          "height": 309
        }
      },
      "source": [
        "train=pd.read_csv(path+'train-data.csv', header=0)\n",
        "train.head()"
      ],
      "execution_count": 0,
      "outputs": [
        {
          "output_type": "execute_result",
          "data": {
            "text/html": [
              "<div>\n",
              "<style scoped>\n",
              "    .dataframe tbody tr th:only-of-type {\n",
              "        vertical-align: middle;\n",
              "    }\n",
              "\n",
              "    .dataframe tbody tr th {\n",
              "        vertical-align: top;\n",
              "    }\n",
              "\n",
              "    .dataframe thead th {\n",
              "        text-align: right;\n",
              "    }\n",
              "</style>\n",
              "<table border=\"1\" class=\"dataframe\">\n",
              "  <thead>\n",
              "    <tr style=\"text-align: right;\">\n",
              "      <th></th>\n",
              "      <th>experiment_week</th>\n",
              "      <th>channel_type</th>\n",
              "      <th>num_units_sold_in_week</th>\n",
              "      <th>sales_revenue_in_week</th>\n",
              "      <th>num_units_returned</th>\n",
              "      <th>returned_units_revenue_loss</th>\n",
              "      <th>store_identifier</th>\n",
              "      <th>product_identifier</th>\n",
              "      <th>category_of_route</th>\n",
              "      <th>supplier_identifier</th>\n",
              "    </tr>\n",
              "  </thead>\n",
              "  <tbody>\n",
              "    <tr>\n",
              "      <th>0</th>\n",
              "      <td>Week 1 of 2019</td>\n",
              "      <td>Warehouse Retailers</td>\n",
              "      <td>3</td>\n",
              "      <td>377.1</td>\n",
              "      <td>0</td>\n",
              "      <td>0.0</td>\n",
              "      <td>store_fc6aa</td>\n",
              "      <td>product_cbfad</td>\n",
              "      <td>route_67047</td>\n",
              "      <td>supplier_identifier_055f7</td>\n",
              "    </tr>\n",
              "    <tr>\n",
              "      <th>1</th>\n",
              "      <td>Week 1 of 2019</td>\n",
              "      <td>Warehouse Retailers</td>\n",
              "      <td>4</td>\n",
              "      <td>502.8</td>\n",
              "      <td>0</td>\n",
              "      <td>0.0</td>\n",
              "      <td>store_fc6aa</td>\n",
              "      <td>product_2b363</td>\n",
              "      <td>route_67047</td>\n",
              "      <td>supplier_identifier_055f7</td>\n",
              "    </tr>\n",
              "    <tr>\n",
              "      <th>2</th>\n",
              "      <td>Week 1 of 2019</td>\n",
              "      <td>Warehouse Retailers</td>\n",
              "      <td>4</td>\n",
              "      <td>589.8</td>\n",
              "      <td>0</td>\n",
              "      <td>0.0</td>\n",
              "      <td>store_fc6aa</td>\n",
              "      <td>product_8de14</td>\n",
              "      <td>route_67047</td>\n",
              "      <td>supplier_identifier_055f7</td>\n",
              "    </tr>\n",
              "    <tr>\n",
              "      <th>3</th>\n",
              "      <td>Week 1 of 2019</td>\n",
              "      <td>Warehouse Retailers</td>\n",
              "      <td>4</td>\n",
              "      <td>502.8</td>\n",
              "      <td>0</td>\n",
              "      <td>0.0</td>\n",
              "      <td>store_fc6aa</td>\n",
              "      <td>product_1c00e</td>\n",
              "      <td>route_67047</td>\n",
              "      <td>supplier_identifier_055f7</td>\n",
              "    </tr>\n",
              "    <tr>\n",
              "      <th>4</th>\n",
              "      <td>Week 1 of 2019</td>\n",
              "      <td>Warehouse Retailers</td>\n",
              "      <td>3</td>\n",
              "      <td>343.8</td>\n",
              "      <td>0</td>\n",
              "      <td>0.0</td>\n",
              "      <td>store_fc6aa</td>\n",
              "      <td>product_55001</td>\n",
              "      <td>route_67047</td>\n",
              "      <td>supplier_identifier_055f7</td>\n",
              "    </tr>\n",
              "  </tbody>\n",
              "</table>\n",
              "</div>"
            ],
            "text/plain": [
              "  experiment_week  ...        supplier_identifier\n",
              "0  Week 1 of 2019  ...  supplier_identifier_055f7\n",
              "1  Week 1 of 2019  ...  supplier_identifier_055f7\n",
              "2  Week 1 of 2019  ...  supplier_identifier_055f7\n",
              "3  Week 1 of 2019  ...  supplier_identifier_055f7\n",
              "4  Week 1 of 2019  ...  supplier_identifier_055f7\n",
              "\n",
              "[5 rows x 10 columns]"
            ]
          },
          "metadata": {
            "tags": []
          },
          "execution_count": 7
        }
      ]
    },
    {
      "cell_type": "markdown",
      "metadata": {
        "id": "rqyuVfCVjc6C",
        "colab_type": "text"
      },
      "source": [
        "## Data pre-processing"
      ]
    },
    {
      "cell_type": "code",
      "metadata": {
        "id": "cLn0E4IDyLnb",
        "colab_type": "code",
        "outputId": "fb704216-69ff-4e34-bf33-dc578a4b8489",
        "colab": {
          "base_uri": "https://localhost:8080/",
          "height": 34
        }
      },
      "source": [
        "data = train.copy()\n",
        "data.shape"
      ],
      "execution_count": 0,
      "outputs": [
        {
          "output_type": "execute_result",
          "data": {
            "text/plain": [
              "(53364883, 10)"
            ]
          },
          "metadata": {
            "tags": []
          },
          "execution_count": 8
        }
      ]
    },
    {
      "cell_type": "markdown",
      "metadata": {
        "id": "e2-W1EdSjg9e",
        "colab_type": "text"
      },
      "source": [
        "### Generating column demand\n",
        "* Column for unit of demand is generated by subtracting units returned by units sold in week"
      ]
    },
    {
      "cell_type": "code",
      "metadata": {
        "id": "mvUe2gxQyRcE",
        "colab_type": "code",
        "colab": {}
      },
      "source": [
        "data['demand'] = data['num_units_sold_in_week'] - data['num_units_returned']"
      ],
      "execution_count": 0,
      "outputs": []
    },
    {
      "cell_type": "markdown",
      "metadata": {
        "id": "fh4Se36ikoxI",
        "colab_type": "text"
      },
      "source": [
        "### Generating values for each value in category columns using m-estimator\n",
        "* Values for each unique entry in category column is generated by grouping the data with column and mean of demand column."
      ]
    },
    {
      "cell_type": "code",
      "metadata": {
        "id": "Dy_GuLmFzfZJ",
        "colab_type": "code",
        "colab": {}
      },
      "source": [
        "catAttributes = ['channel_type','product_identifier','category_of_route','supplier_identifier','store_identifier', 'experiment_week']\n",
        "for c in catAttributes:\n",
        "  X = data.loc[:, [c, 'num_units_sold_in_week', 'num_units_returned']].values\n",
        "  y = data.loc[:, 'demand']\n",
        "\n",
        "  enc = MEstimateEncoder(catAttributes).fit(X, y)\n",
        "  data = pd.concat([data, enc.transform(X)[0]], axis=1)\n",
        "  del enc\n",
        "  del X\n",
        "  del y"
      ],
      "execution_count": 0,
      "outputs": []
    },
    {
      "cell_type": "code",
      "metadata": {
        "id": "UK2JfY1t9ITH",
        "colab_type": "code",
        "outputId": "624eb965-f2f8-403a-dac3-9549f84e32c9",
        "colab": {
          "base_uri": "https://localhost:8080/",
          "height": 309
        }
      },
      "source": [
        "data.head()"
      ],
      "execution_count": 0,
      "outputs": [
        {
          "output_type": "execute_result",
          "data": {
            "text/html": [
              "<div>\n",
              "<style scoped>\n",
              "    .dataframe tbody tr th:only-of-type {\n",
              "        vertical-align: middle;\n",
              "    }\n",
              "\n",
              "    .dataframe tbody tr th {\n",
              "        vertical-align: top;\n",
              "    }\n",
              "\n",
              "    .dataframe thead th {\n",
              "        text-align: right;\n",
              "    }\n",
              "</style>\n",
              "<table border=\"1\" class=\"dataframe\">\n",
              "  <thead>\n",
              "    <tr style=\"text-align: right;\">\n",
              "      <th></th>\n",
              "      <th>experiment_week</th>\n",
              "      <th>channel_type</th>\n",
              "      <th>num_units_sold_in_week</th>\n",
              "      <th>sales_revenue_in_week</th>\n",
              "      <th>num_units_returned</th>\n",
              "      <th>returned_units_revenue_loss</th>\n",
              "      <th>store_identifier</th>\n",
              "      <th>product_identifier</th>\n",
              "      <th>category_of_route</th>\n",
              "      <th>supplier_identifier</th>\n",
              "      <th>demand</th>\n",
              "      <th>0</th>\n",
              "      <th>0</th>\n",
              "      <th>0</th>\n",
              "      <th>0</th>\n",
              "      <th>0</th>\n",
              "      <th>0</th>\n",
              "    </tr>\n",
              "  </thead>\n",
              "  <tbody>\n",
              "    <tr>\n",
              "      <th>0</th>\n",
              "      <td>Week 1 of 2019</td>\n",
              "      <td>Warehouse Retailers</td>\n",
              "      <td>3</td>\n",
              "      <td>377.1</td>\n",
              "      <td>0</td>\n",
              "      <td>0.0</td>\n",
              "      <td>store_fc6aa</td>\n",
              "      <td>product_cbfad</td>\n",
              "      <td>route_67047</td>\n",
              "      <td>supplier_identifier_055f7</td>\n",
              "      <td>3</td>\n",
              "      <td>15.017396</td>\n",
              "      <td>2.892020</td>\n",
              "      <td>18.36635</td>\n",
              "      <td>15.317068</td>\n",
              "      <td>5.575487</td>\n",
              "      <td>6.917377</td>\n",
              "    </tr>\n",
              "    <tr>\n",
              "      <th>1</th>\n",
              "      <td>Week 1 of 2019</td>\n",
              "      <td>Warehouse Retailers</td>\n",
              "      <td>4</td>\n",
              "      <td>502.8</td>\n",
              "      <td>0</td>\n",
              "      <td>0.0</td>\n",
              "      <td>store_fc6aa</td>\n",
              "      <td>product_2b363</td>\n",
              "      <td>route_67047</td>\n",
              "      <td>supplier_identifier_055f7</td>\n",
              "      <td>4</td>\n",
              "      <td>15.017396</td>\n",
              "      <td>3.097105</td>\n",
              "      <td>18.36635</td>\n",
              "      <td>15.317068</td>\n",
              "      <td>5.575487</td>\n",
              "      <td>6.917377</td>\n",
              "    </tr>\n",
              "    <tr>\n",
              "      <th>2</th>\n",
              "      <td>Week 1 of 2019</td>\n",
              "      <td>Warehouse Retailers</td>\n",
              "      <td>4</td>\n",
              "      <td>589.8</td>\n",
              "      <td>0</td>\n",
              "      <td>0.0</td>\n",
              "      <td>store_fc6aa</td>\n",
              "      <td>product_8de14</td>\n",
              "      <td>route_67047</td>\n",
              "      <td>supplier_identifier_055f7</td>\n",
              "      <td>4</td>\n",
              "      <td>15.017396</td>\n",
              "      <td>3.207035</td>\n",
              "      <td>18.36635</td>\n",
              "      <td>15.317068</td>\n",
              "      <td>5.575487</td>\n",
              "      <td>6.917377</td>\n",
              "    </tr>\n",
              "    <tr>\n",
              "      <th>3</th>\n",
              "      <td>Week 1 of 2019</td>\n",
              "      <td>Warehouse Retailers</td>\n",
              "      <td>4</td>\n",
              "      <td>502.8</td>\n",
              "      <td>0</td>\n",
              "      <td>0.0</td>\n",
              "      <td>store_fc6aa</td>\n",
              "      <td>product_1c00e</td>\n",
              "      <td>route_67047</td>\n",
              "      <td>supplier_identifier_055f7</td>\n",
              "      <td>4</td>\n",
              "      <td>15.017396</td>\n",
              "      <td>5.702624</td>\n",
              "      <td>18.36635</td>\n",
              "      <td>15.317068</td>\n",
              "      <td>5.575487</td>\n",
              "      <td>6.917377</td>\n",
              "    </tr>\n",
              "    <tr>\n",
              "      <th>4</th>\n",
              "      <td>Week 1 of 2019</td>\n",
              "      <td>Warehouse Retailers</td>\n",
              "      <td>3</td>\n",
              "      <td>343.8</td>\n",
              "      <td>0</td>\n",
              "      <td>0.0</td>\n",
              "      <td>store_fc6aa</td>\n",
              "      <td>product_55001</td>\n",
              "      <td>route_67047</td>\n",
              "      <td>supplier_identifier_055f7</td>\n",
              "      <td>3</td>\n",
              "      <td>15.017396</td>\n",
              "      <td>5.133844</td>\n",
              "      <td>18.36635</td>\n",
              "      <td>15.317068</td>\n",
              "      <td>5.575487</td>\n",
              "      <td>6.917377</td>\n",
              "    </tr>\n",
              "  </tbody>\n",
              "</table>\n",
              "</div>"
            ],
            "text/plain": [
              "  experiment_week         channel_type  ...         0         0\n",
              "0  Week 1 of 2019  Warehouse Retailers  ...  5.575487  6.917377\n",
              "1  Week 1 of 2019  Warehouse Retailers  ...  5.575487  6.917377\n",
              "2  Week 1 of 2019  Warehouse Retailers  ...  5.575487  6.917377\n",
              "3  Week 1 of 2019  Warehouse Retailers  ...  5.575487  6.917377\n",
              "4  Week 1 of 2019  Warehouse Retailers  ...  5.575487  6.917377\n",
              "\n",
              "[5 rows x 17 columns]"
            ]
          },
          "metadata": {
            "tags": []
          },
          "execution_count": 11
        }
      ]
    },
    {
      "cell_type": "markdown",
      "metadata": {
        "id": "ND3o72P2kxmP",
        "colab_type": "text"
      },
      "source": [
        "### Generate new dataset with generated columns and demand"
      ]
    },
    {
      "cell_type": "code",
      "metadata": {
        "id": "ymca2vIY1gDU",
        "colab_type": "code",
        "outputId": "2e75b04f-6874-4107-b116-ad6caeed6875",
        "colab": {
          "base_uri": "https://localhost:8080/",
          "height": 170
        }
      },
      "source": [
        "col = ['experiment_week', 'channel_type', 'num_units_sold_in_week',\t'sales_revenue_in_week',\t'num_units_returned',\t'returned_units_revenue_loss', 'store_identifier', 'product_identifier', 'category_of_route', 'supplier_identifier', 'demand', 'val1', 'val2', 'val3', 'val4', 'val5', 'val6']\n",
        "data.columns = col\n",
        "\n",
        "data = data.loc[:, ['experiment_week', 'val1', 'val2', 'val3', 'val4', 'val5', 'val6', 'demand']]\n",
        "data.dtypes"
      ],
      "execution_count": 0,
      "outputs": [
        {
          "output_type": "execute_result",
          "data": {
            "text/plain": [
              "experiment_week     object\n",
              "val1               float64\n",
              "val2               float64\n",
              "val3               float64\n",
              "val4               float64\n",
              "val5               float64\n",
              "val6               float64\n",
              "demand               int64\n",
              "dtype: object"
            ]
          },
          "metadata": {
            "tags": []
          },
          "execution_count": 12
        }
      ]
    },
    {
      "cell_type": "code",
      "metadata": {
        "id": "o8kd_hE68NPM",
        "colab_type": "code",
        "outputId": "85398ca5-efc2-45b3-b91b-8b8a679ac3b6",
        "colab": {
          "base_uri": "https://localhost:8080/",
          "height": 204
        }
      },
      "source": [
        "data.head()"
      ],
      "execution_count": 0,
      "outputs": [
        {
          "output_type": "execute_result",
          "data": {
            "text/html": [
              "<div>\n",
              "<style scoped>\n",
              "    .dataframe tbody tr th:only-of-type {\n",
              "        vertical-align: middle;\n",
              "    }\n",
              "\n",
              "    .dataframe tbody tr th {\n",
              "        vertical-align: top;\n",
              "    }\n",
              "\n",
              "    .dataframe thead th {\n",
              "        text-align: right;\n",
              "    }\n",
              "</style>\n",
              "<table border=\"1\" class=\"dataframe\">\n",
              "  <thead>\n",
              "    <tr style=\"text-align: right;\">\n",
              "      <th></th>\n",
              "      <th>experiment_week</th>\n",
              "      <th>val1</th>\n",
              "      <th>val2</th>\n",
              "      <th>val3</th>\n",
              "      <th>val4</th>\n",
              "      <th>val5</th>\n",
              "      <th>val6</th>\n",
              "      <th>demand</th>\n",
              "    </tr>\n",
              "  </thead>\n",
              "  <tbody>\n",
              "    <tr>\n",
              "      <th>0</th>\n",
              "      <td>Week 1 of 2019</td>\n",
              "      <td>15.017396</td>\n",
              "      <td>2.892020</td>\n",
              "      <td>18.36635</td>\n",
              "      <td>15.317068</td>\n",
              "      <td>5.575487</td>\n",
              "      <td>6.917377</td>\n",
              "      <td>3</td>\n",
              "    </tr>\n",
              "    <tr>\n",
              "      <th>1</th>\n",
              "      <td>Week 1 of 2019</td>\n",
              "      <td>15.017396</td>\n",
              "      <td>3.097105</td>\n",
              "      <td>18.36635</td>\n",
              "      <td>15.317068</td>\n",
              "      <td>5.575487</td>\n",
              "      <td>6.917377</td>\n",
              "      <td>4</td>\n",
              "    </tr>\n",
              "    <tr>\n",
              "      <th>2</th>\n",
              "      <td>Week 1 of 2019</td>\n",
              "      <td>15.017396</td>\n",
              "      <td>3.207035</td>\n",
              "      <td>18.36635</td>\n",
              "      <td>15.317068</td>\n",
              "      <td>5.575487</td>\n",
              "      <td>6.917377</td>\n",
              "      <td>4</td>\n",
              "    </tr>\n",
              "    <tr>\n",
              "      <th>3</th>\n",
              "      <td>Week 1 of 2019</td>\n",
              "      <td>15.017396</td>\n",
              "      <td>5.702624</td>\n",
              "      <td>18.36635</td>\n",
              "      <td>15.317068</td>\n",
              "      <td>5.575487</td>\n",
              "      <td>6.917377</td>\n",
              "      <td>4</td>\n",
              "    </tr>\n",
              "    <tr>\n",
              "      <th>4</th>\n",
              "      <td>Week 1 of 2019</td>\n",
              "      <td>15.017396</td>\n",
              "      <td>5.133844</td>\n",
              "      <td>18.36635</td>\n",
              "      <td>15.317068</td>\n",
              "      <td>5.575487</td>\n",
              "      <td>6.917377</td>\n",
              "      <td>3</td>\n",
              "    </tr>\n",
              "  </tbody>\n",
              "</table>\n",
              "</div>"
            ],
            "text/plain": [
              "  experiment_week       val1      val2  ...      val5      val6  demand\n",
              "0  Week 1 of 2019  15.017396  2.892020  ...  5.575487  6.917377       3\n",
              "1  Week 1 of 2019  15.017396  3.097105  ...  5.575487  6.917377       4\n",
              "2  Week 1 of 2019  15.017396  3.207035  ...  5.575487  6.917377       4\n",
              "3  Week 1 of 2019  15.017396  5.702624  ...  5.575487  6.917377       4\n",
              "4  Week 1 of 2019  15.017396  5.133844  ...  5.575487  6.917377       3\n",
              "\n",
              "[5 rows x 8 columns]"
            ]
          },
          "metadata": {
            "tags": []
          },
          "execution_count": 13
        }
      ]
    },
    {
      "cell_type": "markdown",
      "metadata": {
        "id": "taAUZXomlLFg",
        "colab_type": "text"
      },
      "source": [
        "### Converting numerical to float32 datatype\n",
        "* To save memory on RAM, converting numerical to float32 datatype from float64"
      ]
    },
    {
      "cell_type": "code",
      "metadata": {
        "id": "FOJ0_DEy2bIp",
        "colab_type": "code",
        "outputId": "49d6434f-2143-4b6f-ebe8-cd423c062e64",
        "colab": {
          "base_uri": "https://localhost:8080/",
          "height": 170
        }
      },
      "source": [
        "num = ['val1', 'val2', 'val3', 'val4', 'val5', 'val6']\n",
        "for c in num:\n",
        "  data[c] = data[c].astype('float32')\n",
        "data.dtypes"
      ],
      "execution_count": 0,
      "outputs": [
        {
          "output_type": "execute_result",
          "data": {
            "text/plain": [
              "experiment_week     object\n",
              "val1               float32\n",
              "val2               float32\n",
              "val3               float32\n",
              "val4               float32\n",
              "val5               float32\n",
              "val6               float32\n",
              "demand               int64\n",
              "dtype: object"
            ]
          },
          "metadata": {
            "tags": []
          },
          "execution_count": 15
        }
      ]
    },
    {
      "cell_type": "markdown",
      "metadata": {
        "id": "Bje_ivLLlazU",
        "colab_type": "text"
      },
      "source": [
        "### Correlation chart between numerical attributes"
      ]
    },
    {
      "cell_type": "code",
      "metadata": {
        "id": "4-dRZ4a0lBy6",
        "colab_type": "code",
        "outputId": "635236a0-1a37-49ed-f2c5-cc4201dbc4a2",
        "colab": {
          "base_uri": "https://localhost:8080/",
          "height": 395
        }
      },
      "source": [
        "corr = data[num].corr()\n",
        "fig, ax = plt.subplots(figsize=(6, 6)) \n",
        "mask = np.zeros_like(corr)\n",
        "mask[np.triu_indices_from(mask)] = 1\n",
        "sns.heatmap(corr, mask= mask, ax= ax, annot= True)"
      ],
      "execution_count": 0,
      "outputs": [
        {
          "output_type": "execute_result",
          "data": {
            "text/plain": [
              "<matplotlib.axes._subplots.AxesSubplot at 0x7f83668b92b0>"
            ]
          },
          "metadata": {
            "tags": []
          },
          "execution_count": 15
        },
        {
          "output_type": "display_data",
          "data": {
            "image/png": "[encoded data removed]",
            "text/plain": [
              "<Figure size 432x432 with 2 Axes>"
            ]
          },
          "metadata": {
            "tags": []
          }
        }
      ]
    },
    {
      "cell_type": "code",
      "metadata": {
        "id": "xJ7f68wYo1fI",
        "colab_type": "code",
        "colab": {}
      },
      "source": [
        "data.drop('val6', axis=1, inplace=True)\n",
        "num.remove('val6')"
      ],
      "execution_count": 0,
      "outputs": []
    },
    {
      "cell_type": "markdown",
      "metadata": {
        "id": "1heK2Vp6lfqO",
        "colab_type": "text"
      },
      "source": [
        "## Training and testing models"
      ]
    },
    {
      "cell_type": "markdown",
      "metadata": {
        "id": "0JqJ5TndliSj",
        "colab_type": "text"
      },
      "source": [
        "### Defining function for matrice.\n",
        "* RMSE is the matrice used."
      ]
    },
    {
      "cell_type": "code",
      "metadata": {
        "id": "8mvAV6Gy2tiq",
        "colab_type": "code",
        "colab": {}
      },
      "source": [
        "def matrice(model):\n",
        "  y_predicted = model.predict(X_train)\n",
        "  print('Train RMSE: ', np.sqrt(mean_squared_error(y_train, y_predicted)))\n",
        "  \n",
        "  y_predicted = model.predict(X_test)\n",
        "  print('Test RMSE: ', np.sqrt(mean_squared_error(y_test, y_predicted)))"
      ],
      "execution_count": 0,
      "outputs": []
    },
    {
      "cell_type": "markdown",
      "metadata": {
        "id": "8Ek-KpM9lrkL",
        "colab_type": "text"
      },
      "source": [
        "### Index of Starting of Week 5 data"
      ]
    },
    {
      "cell_type": "code",
      "metadata": {
        "id": "q7PJdfkV2Kmb",
        "colab_type": "code",
        "outputId": "5a262fbf-e892-42a9-ff8b-04be891b82c0",
        "colab": {
          "base_uri": "https://localhost:8080/",
          "height": 34
        }
      },
      "source": [
        "indx = data[data['experiment_week'] == 'Week 5 of 2019'].index[0]\n",
        "indx"
      ],
      "execution_count": 0,
      "outputs": [
        {
          "output_type": "execute_result",
          "data": {
            "text/plain": [
              "42982034"
            ]
          },
          "metadata": {
            "tags": []
          },
          "execution_count": 18
        }
      ]
    },
    {
      "cell_type": "markdown",
      "metadata": {
        "id": "VDA87EQil2e_",
        "colab_type": "text"
      },
      "source": [
        "### Splitting train and validation data set"
      ]
    },
    {
      "cell_type": "code",
      "metadata": {
        "id": "GB-GvYig2ycr",
        "colab_type": "code",
        "colab": {}
      },
      "source": [
        "X_train = data.loc[:indx, num].values\n",
        "X_test = data.loc[indx:, num].values"
      ],
      "execution_count": 0,
      "outputs": []
    },
    {
      "cell_type": "code",
      "metadata": {
        "id": "uAXm-GeF2_KT",
        "colab_type": "code",
        "outputId": "3f4bc150-8ce0-4399-d369-8113d1c8f325",
        "colab": {
          "base_uri": "https://localhost:8080/",
          "height": 34
        }
      },
      "source": [
        "y_train = data.loc[:indx,'demand'].values\n",
        "y_test = data.loc[indx:,'demand'].values\n",
        "X_train.shape, y_train.shape, X_test.shape, y_test.shape"
      ],
      "execution_count": 0,
      "outputs": [
        {
          "output_type": "execute_result",
          "data": {
            "text/plain": [
              "((42982035, 5), (42982035,), (10382849, 5), (10382849,))"
            ]
          },
          "metadata": {
            "tags": []
          },
          "execution_count": 25
        }
      ]
    },
    {
      "cell_type": "markdown",
      "metadata": {
        "id": "uh0I7_thl6A_",
        "colab_type": "text"
      },
      "source": [
        "### Modeling using Linear Regression"
      ]
    },
    {
      "cell_type": "code",
      "metadata": {
        "id": "YbGXKAbL3Pg3",
        "colab_type": "code",
        "colab": {}
      },
      "source": [
        "linearRegression = LinearRegression()  \n",
        "linearRegression = linearRegression.fit(X_train, y_train)"
      ],
      "execution_count": 0,
      "outputs": []
    },
    {
      "cell_type": "code",
      "metadata": {
        "id": "gph7b5633Y6m",
        "colab_type": "code",
        "outputId": "617ddd63-0f63-4e48-84bc-ea91a0958e60",
        "colab": {
          "base_uri": "https://localhost:8080/",
          "height": 51
        }
      },
      "source": [
        "matrice(linearRegression)"
      ],
      "execution_count": 0,
      "outputs": [
        {
          "output_type": "stream",
          "text": [
            "Train RMSE:  17.00756899492275\n",
            "Test RMSE:  16.82492615887398\n"
          ],
          "name": "stdout"
        }
      ]
    },
    {
      "cell_type": "markdown",
      "metadata": {
        "id": "oJT8gFJal-LI",
        "colab_type": "text"
      },
      "source": [
        "### Modeling using Decision Tree"
      ]
    },
    {
      "cell_type": "code",
      "metadata": {
        "id": "iwxx6jQA3a3A",
        "colab_type": "code",
        "colab": {}
      },
      "source": [
        "decisionTree = tree.DecisionTreeRegressor()\n",
        "decisionTree = decisionTree.fit(X_train, y_train)"
      ],
      "execution_count": 0,
      "outputs": []
    },
    {
      "cell_type": "code",
      "metadata": {
        "id": "xPIgGbBK3jNr",
        "colab_type": "code",
        "outputId": "ecb5399f-ac6b-435c-cd50-b8ca9a728901",
        "colab": {
          "base_uri": "https://localhost:8080/",
          "height": 51
        }
      },
      "source": [
        "matrice(decisionTree)"
      ],
      "execution_count": 0,
      "outputs": [
        {
          "output_type": "stream",
          "text": [
            "Train RMSE:  0.061992505316969565\n",
            "Test RMSE:  12.918783671598838\n"
          ],
          "name": "stdout"
        }
      ]
    },
    {
      "cell_type": "markdown",
      "metadata": {
        "id": "Uu2n8FSPmAnm",
        "colab_type": "text"
      },
      "source": [
        "### Modeling using Random Forest"
      ]
    },
    {
      "cell_type": "code",
      "metadata": {
        "id": "-VgVOg6N3rNm",
        "colab_type": "code",
        "colab": {}
      },
      "source": [
        "randomForest = RandomForestRegressor()\n",
        "randomForest = randomForest.fit(X_train, y_train)"
      ],
      "execution_count": 0,
      "outputs": []
    },
    {
      "cell_type": "code",
      "metadata": {
        "id": "LlElu8vH3v5Q",
        "colab_type": "code",
        "outputId": "0b536542-0ead-4df6-eac0-96db9fc1a668",
        "colab": {
          "base_uri": "https://localhost:8080/",
          "height": 51
        }
      },
      "source": [
        "matrice(randomForest)"
      ],
      "execution_count": 0,
      "outputs": [
        {
          "output_type": "stream",
          "text": [
            "Train RMSE:  8.72161142103015\n",
            "Test RMSE:  16.037320099257165\n"
          ],
          "name": "stdout"
        }
      ]
    }
  ]
}