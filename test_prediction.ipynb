{
  "nbformat": 4,
  "nbformat_minor": 0,
  "metadata": {
    "colab": {
      "name": "phd-test-prediction-unit-revenue-value.ipynb",
      "provenance": [],
      "collapsed_sections": []
    },
    "kernelspec": {
      "name": "python3",
      "display_name": "Python 3"
    }
  },
  "cells": [
    {
      "cell_type": "markdown",
      "metadata": {
        "id": "0MvU3R5CQZL-",
        "colab_type": "text"
      },
      "source": [
        "# Test Dataset Prediction\n",
        "* Prediction on test data using model build by using mean for category of demand unit and revenue."
      ]
    },
    {
      "cell_type": "markdown",
      "metadata": {
        "id": "BZxLbDyWQqTW",
        "colab_type": "text"
      },
      "source": [
        "##Importing required libraries"
      ]
    },
    {
      "cell_type": "code",
      "metadata": {
        "id": "6S6fyflW1UD6",
        "colab_type": "code",
        "colab": {}
      },
      "source": [
        "import numpy as np\n",
        "import scipy as sp\n",
        "import pandas as pd\n",
        "import seaborn as sns\n",
        "import matplotlib.pyplot as plt\n",
        "import dateutil.parser as dparser\n",
        "import random\n",
        "from sklearn.preprocessing import RobustScaler\n",
        "from sklearn import preprocessing\n",
        "from sklearn.metrics import mean_squared_error, r2_score\n",
        "import pickle\n",
        "import warnings\n",
        "warnings.simplefilter(action='ignore', category=FutureWarning)"
      ],
      "execution_count": 0,
      "outputs": []
    },
    {
      "cell_type": "markdown",
      "metadata": {
        "id": "DHxYSF4NQ0pK",
        "colab_type": "text"
      },
      "source": [
        "## Mount Google drive"
      ]
    },
    {
      "cell_type": "code",
      "metadata": {
        "id": "r7bHF8fA1jJF",
        "colab_type": "code",
        "outputId": "5d5ade96-1baf-4bbf-a9ae-fcc3ed85d1de",
        "colab": {
          "base_uri": "https://localhost:8080/",
          "height": 34
        }
      },
      "source": [
        "from google.colab import drive\n",
        "drive.mount('/content/gdrive')\n",
        "path = '/content/gdrive/My Drive/'"
      ],
      "execution_count": 2,
      "outputs": [
        {
          "output_type": "stream",
          "text": [
            "Drive already mounted at /content/gdrive; to attempt to forcibly remount, call drive.mount(\"/content/gdrive\", force_remount=True).\n"
          ],
          "name": "stdout"
        }
      ]
    },
    {
      "cell_type": "markdown",
      "metadata": {
        "id": "lZ0bnXRJQ3Ob",
        "colab_type": "text"
      },
      "source": [
        "## Import test data"
      ]
    },
    {
      "cell_type": "code",
      "metadata": {
        "id": "IKi3HDA11lMd",
        "colab_type": "code",
        "outputId": "e43e3225-9270-4d2d-9311-c9226ce68d73",
        "colab": {
          "base_uri": "https://localhost:8080/",
          "height": 204
        }
      },
      "source": [
        "test=pd.read_csv(path+'test-data.csv', header=0)\n",
        "test.head()"
      ],
      "execution_count": 3,
      "outputs": [
        {
          "output_type": "execute_result",
          "data": {
            "text/html": [
              "<div>\n",
              "<style scoped>\n",
              "    .dataframe tbody tr th:only-of-type {\n",
              "        vertical-align: middle;\n",
              "    }\n",
              "\n",
              "    .dataframe tbody tr th {\n",
              "        vertical-align: top;\n",
              "    }\n",
              "\n",
              "    .dataframe thead th {\n",
              "        text-align: right;\n",
              "    }\n",
              "</style>\n",
              "<table border=\"1\" class=\"dataframe\">\n",
              "  <thead>\n",
              "    <tr style=\"text-align: right;\">\n",
              "      <th></th>\n",
              "      <th>id</th>\n",
              "      <th>experiment_week</th>\n",
              "      <th>channel_type</th>\n",
              "      <th>supplier_identifier</th>\n",
              "      <th>category_of_route</th>\n",
              "      <th>store_identifier</th>\n",
              "      <th>product_identifier</th>\n",
              "    </tr>\n",
              "  </thead>\n",
              "  <tbody>\n",
              "    <tr>\n",
              "      <th>0</th>\n",
              "      <td>1</td>\n",
              "      <td>Week 6 of 2019</td>\n",
              "      <td>Warehouse Retailers</td>\n",
              "      <td>supplier_identifier_055f7</td>\n",
              "      <td>route_67047</td>\n",
              "      <td>store_fc6aa</td>\n",
              "      <td>product_cbfad</td>\n",
              "    </tr>\n",
              "    <tr>\n",
              "      <th>1</th>\n",
              "      <td>2</td>\n",
              "      <td>Week 6 of 2019</td>\n",
              "      <td>Warehouse Retailers</td>\n",
              "      <td>supplier_identifier_055f7</td>\n",
              "      <td>route_67047</td>\n",
              "      <td>store_fc6aa</td>\n",
              "      <td>product_2b363</td>\n",
              "    </tr>\n",
              "    <tr>\n",
              "      <th>2</th>\n",
              "      <td>3</td>\n",
              "      <td>Week 6 of 2019</td>\n",
              "      <td>Warehouse Retailers</td>\n",
              "      <td>supplier_identifier_055f7</td>\n",
              "      <td>route_67047</td>\n",
              "      <td>store_fc6aa</td>\n",
              "      <td>product_f79b8</td>\n",
              "    </tr>\n",
              "    <tr>\n",
              "      <th>3</th>\n",
              "      <td>4</td>\n",
              "      <td>Week 6 of 2019</td>\n",
              "      <td>Warehouse Retailers</td>\n",
              "      <td>supplier_identifier_055f7</td>\n",
              "      <td>route_67047</td>\n",
              "      <td>store_fc6aa</td>\n",
              "      <td>product_8de14</td>\n",
              "    </tr>\n",
              "    <tr>\n",
              "      <th>4</th>\n",
              "      <td>5</td>\n",
              "      <td>Week 6 of 2019</td>\n",
              "      <td>Warehouse Retailers</td>\n",
              "      <td>supplier_identifier_055f7</td>\n",
              "      <td>route_67047</td>\n",
              "      <td>store_fc6aa</td>\n",
              "      <td>product_1c00e</td>\n",
              "    </tr>\n",
              "  </tbody>\n",
              "</table>\n",
              "</div>"
            ],
            "text/plain": [
              "   id experiment_week  ... store_identifier product_identifier\n",
              "0   1  Week 6 of 2019  ...      store_fc6aa      product_cbfad\n",
              "1   2  Week 6 of 2019  ...      store_fc6aa      product_2b363\n",
              "2   3  Week 6 of 2019  ...      store_fc6aa      product_f79b8\n",
              "3   4  Week 6 of 2019  ...      store_fc6aa      product_8de14\n",
              "4   5  Week 6 of 2019  ...      store_fc6aa      product_1c00e\n",
              "\n",
              "[5 rows x 7 columns]"
            ]
          },
          "metadata": {
            "tags": []
          },
          "execution_count": 3
        }
      ]
    },
    {
      "cell_type": "markdown",
      "metadata": {
        "id": "PE0yMx03Q7KO",
        "colab_type": "text"
      },
      "source": [
        "## Data pre-processing"
      ]
    },
    {
      "cell_type": "code",
      "metadata": {
        "id": "9rSdoJAM1r1B",
        "colab_type": "code",
        "outputId": "a93e08fc-3e05-4420-b093-b36b91aebc82",
        "colab": {
          "base_uri": "https://localhost:8080/",
          "height": 34
        }
      },
      "source": [
        "data = test.copy()\n",
        "data.shape"
      ],
      "execution_count": 4,
      "outputs": [
        {
          "output_type": "execute_result",
          "data": {
            "text/plain": [
              "(20815581, 7)"
            ]
          },
          "metadata": {
            "tags": []
          },
          "execution_count": 4
        }
      ]
    },
    {
      "cell_type": "markdown",
      "metadata": {
        "id": "KVfKoWZdQ9xW",
        "colab_type": "text"
      },
      "source": [
        "### Importing and merging the colums\n",
        "* Importing and merging the colums generated for category columns with dataset."
      ]
    },
    {
      "cell_type": "code",
      "metadata": {
        "id": "xQY9BxEM12CE",
        "colab_type": "code",
        "outputId": "1ac18c7c-48a5-4f59-f829-77b195a31401",
        "colab": {
          "base_uri": "https://localhost:8080/",
          "height": 221
        }
      },
      "source": [
        "cols = ['channel_type','product_identifier','category_of_route','supplier_identifier','store_identifier', 'experiment_week']\n",
        "for c in cols:\n",
        "  print(c+'...Processing')\n",
        "  temp = pd.read_csv('/content/gdrive/My Drive/'+c+'_mean.csv', header=0)\n",
        "  temp = temp.set_index(c)\n",
        "  temp.columns = [c+'_value']\n",
        "  data = data.merge(temp, right_index=True, left_on = c, how='left')\n",
        "  data.fillna(temp.mean(), inplace=True)\n",
        "  print('Done')\n",
        "  del temp"
      ],
      "execution_count": 5,
      "outputs": [
        {
          "output_type": "stream",
          "text": [
            "channel_type...Processing\n",
            "Done\n",
            "product_identifier...Processing\n",
            "Done\n",
            "category_of_route...Processing\n",
            "Done\n",
            "supplier_identifier...Processing\n",
            "Done\n",
            "store_identifier...Processing\n",
            "Done\n",
            "experiment_week...Processing\n",
            "Done\n"
          ],
          "name": "stdout"
        }
      ]
    },
    {
      "cell_type": "code",
      "metadata": {
        "id": "2XZeeTex16SQ",
        "colab_type": "code",
        "outputId": "44dc25e8-8812-470a-d064-b8546c47f2df",
        "colab": {
          "base_uri": "https://localhost:8080/",
          "height": 221
        }
      },
      "source": [
        "cols = ['channel_type','product_identifier','category_of_route','supplier_identifier','store_identifier', 'experiment_week']\n",
        "for c in cols:\n",
        "  print(c+'...Processing')\n",
        "  temp = pd.read_csv('/content/gdrive/My Drive/'+c+'_mean_revenue.csv', header=0)\n",
        "  temp = temp.set_index(c)\n",
        "  temp.columns = [c+'_value_revenue']\n",
        "  data = data.merge(temp, right_index=True, left_on = c, how='left')\n",
        "  data.fillna(temp.mean(), inplace=True)\n",
        "  print('Done')\n",
        "  del temp"
      ],
      "execution_count": 6,
      "outputs": [
        {
          "output_type": "stream",
          "text": [
            "channel_type...Processing\n",
            "Done\n",
            "product_identifier...Processing\n",
            "Done\n",
            "category_of_route...Processing\n",
            "Done\n",
            "supplier_identifier...Processing\n",
            "Done\n",
            "store_identifier...Processing\n",
            "Done\n",
            "experiment_week...Processing\n",
            "Done\n"
          ],
          "name": "stdout"
        }
      ]
    },
    {
      "cell_type": "markdown",
      "metadata": {
        "id": "RTjYvVD7RKUY",
        "colab_type": "text"
      },
      "source": [
        "### Converting numAttributes to int16 datatype\n",
        "* To save memory on RAM and setting values to round-up value, converting numAttributes to int16 datatype"
      ]
    },
    {
      "cell_type": "code",
      "metadata": {
        "id": "tjiiXsR31_4v",
        "colab_type": "code",
        "colab": {}
      },
      "source": [
        "numAttributes = ['experiment_week_value', 'channel_type_value', 'product_identifier_value', 'category_of_route_value', 'supplier_identifier_value', 'store_identifier_value'] \n",
        "numAttributesRevenue = ['experiment_week_value_revenue', 'channel_type_value_revenue', 'product_identifier_value_revenue', 'category_of_route_value_revenue', 'supplier_identifier_value_revenue', 'store_identifier_value_revenue']\n"
      ],
      "execution_count": 0,
      "outputs": []
    },
    {
      "cell_type": "code",
      "metadata": {
        "id": "WX4IQAl-2EAm",
        "colab_type": "code",
        "outputId": "654397f0-5055-44f9-ed65-e7bbeb38762c",
        "colab": {
          "base_uri": "https://localhost:8080/",
          "height": 357
        }
      },
      "source": [
        "numCol = numAttributes[:]\n",
        "numCol.extend(numAttributesRevenue)\n",
        "for cols in numCol:\n",
        "  data[cols] = data[cols].astype('int16')\n",
        "data.dtypes"
      ],
      "execution_count": 9,
      "outputs": [
        {
          "output_type": "execute_result",
          "data": {
            "text/plain": [
              "id                                    int64\n",
              "experiment_week                      object\n",
              "channel_type                         object\n",
              "supplier_identifier                  object\n",
              "category_of_route                    object\n",
              "store_identifier                     object\n",
              "product_identifier                   object\n",
              "channel_type_value                    int16\n",
              "product_identifier_value              int16\n",
              "category_of_route_value               int16\n",
              "supplier_identifier_value             int16\n",
              "store_identifier_value                int16\n",
              "experiment_week_value                 int16\n",
              "channel_type_value_revenue            int16\n",
              "product_identifier_value_revenue      int16\n",
              "category_of_route_value_revenue       int16\n",
              "supplier_identifier_value_revenue     int16\n",
              "store_identifier_value_revenue        int16\n",
              "experiment_week_value_revenue         int16\n",
              "dtype: object"
            ]
          },
          "metadata": {
            "tags": []
          },
          "execution_count": 9
        }
      ]
    },
    {
      "cell_type": "markdown",
      "metadata": {
        "id": "Ncqm6VzQRO3v",
        "colab_type": "text"
      },
      "source": [
        "### Dropping column ID"
      ]
    },
    {
      "cell_type": "code",
      "metadata": {
        "id": "sVSLhWeia6-P",
        "colab_type": "code",
        "colab": {}
      },
      "source": [
        "id = pd.DataFrame(data['id'])"
      ],
      "execution_count": 0,
      "outputs": []
    },
    {
      "cell_type": "code",
      "metadata": {
        "id": "sZ99MFPW2JCb",
        "colab_type": "code",
        "colab": {}
      },
      "source": [
        "data.drop('id', axis = 1, inplace=True)"
      ],
      "execution_count": 0,
      "outputs": []
    },
    {
      "cell_type": "markdown",
      "metadata": {
        "id": "3qaHSuIFRSjI",
        "colab_type": "text"
      },
      "source": [
        "### Generate new dataset with value columns imported"
      ]
    },
    {
      "cell_type": "code",
      "metadata": {
        "id": "tuc3_c9P2NtL",
        "colab_type": "code",
        "outputId": "72c5646b-ced8-4d8d-8cdd-5637578005c6",
        "colab": {
          "base_uri": "https://localhost:8080/",
          "height": 224
        }
      },
      "source": [
        "cols = numAttributes[:]\n",
        "cols.extend(numAttributesRevenue)\n",
        "data = data.loc[:, cols]\n",
        "data.head()"
      ],
      "execution_count": 12,
      "outputs": [
        {
          "output_type": "execute_result",
          "data": {
            "text/html": [
              "<div>\n",
              "<style scoped>\n",
              "    .dataframe tbody tr th:only-of-type {\n",
              "        vertical-align: middle;\n",
              "    }\n",
              "\n",
              "    .dataframe tbody tr th {\n",
              "        vertical-align: top;\n",
              "    }\n",
              "\n",
              "    .dataframe thead th {\n",
              "        text-align: right;\n",
              "    }\n",
              "</style>\n",
              "<table border=\"1\" class=\"dataframe\">\n",
              "  <thead>\n",
              "    <tr style=\"text-align: right;\">\n",
              "      <th></th>\n",
              "      <th>experiment_week_value</th>\n",
              "      <th>channel_type_value</th>\n",
              "      <th>product_identifier_value</th>\n",
              "      <th>category_of_route_value</th>\n",
              "      <th>supplier_identifier_value</th>\n",
              "      <th>store_identifier_value</th>\n",
              "      <th>experiment_week_value_revenue</th>\n",
              "      <th>channel_type_value_revenue</th>\n",
              "      <th>product_identifier_value_revenue</th>\n",
              "      <th>category_of_route_value_revenue</th>\n",
              "      <th>supplier_identifier_value_revenue</th>\n",
              "      <th>store_identifier_value_revenue</th>\n",
              "    </tr>\n",
              "  </thead>\n",
              "  <tbody>\n",
              "    <tr>\n",
              "      <th>0</th>\n",
              "      <td>7</td>\n",
              "      <td>15</td>\n",
              "      <td>2</td>\n",
              "      <td>18</td>\n",
              "      <td>15</td>\n",
              "      <td>5</td>\n",
              "      <td>1026</td>\n",
              "      <td>2666</td>\n",
              "      <td>370</td>\n",
              "      <td>4172</td>\n",
              "      <td>2522</td>\n",
              "      <td>572</td>\n",
              "    </tr>\n",
              "    <tr>\n",
              "      <th>1</th>\n",
              "      <td>7</td>\n",
              "      <td>15</td>\n",
              "      <td>3</td>\n",
              "      <td>18</td>\n",
              "      <td>15</td>\n",
              "      <td>5</td>\n",
              "      <td>1026</td>\n",
              "      <td>2666</td>\n",
              "      <td>397</td>\n",
              "      <td>4172</td>\n",
              "      <td>2522</td>\n",
              "      <td>572</td>\n",
              "    </tr>\n",
              "    <tr>\n",
              "      <th>2</th>\n",
              "      <td>7</td>\n",
              "      <td>15</td>\n",
              "      <td>3</td>\n",
              "      <td>18</td>\n",
              "      <td>15</td>\n",
              "      <td>5</td>\n",
              "      <td>1026</td>\n",
              "      <td>2666</td>\n",
              "      <td>366</td>\n",
              "      <td>4172</td>\n",
              "      <td>2522</td>\n",
              "      <td>572</td>\n",
              "    </tr>\n",
              "    <tr>\n",
              "      <th>3</th>\n",
              "      <td>7</td>\n",
              "      <td>15</td>\n",
              "      <td>3</td>\n",
              "      <td>18</td>\n",
              "      <td>15</td>\n",
              "      <td>5</td>\n",
              "      <td>1026</td>\n",
              "      <td>2666</td>\n",
              "      <td>488</td>\n",
              "      <td>4172</td>\n",
              "      <td>2522</td>\n",
              "      <td>572</td>\n",
              "    </tr>\n",
              "    <tr>\n",
              "      <th>4</th>\n",
              "      <td>7</td>\n",
              "      <td>15</td>\n",
              "      <td>5</td>\n",
              "      <td>18</td>\n",
              "      <td>15</td>\n",
              "      <td>5</td>\n",
              "      <td>1026</td>\n",
              "      <td>2666</td>\n",
              "      <td>738</td>\n",
              "      <td>4172</td>\n",
              "      <td>2522</td>\n",
              "      <td>572</td>\n",
              "    </tr>\n",
              "  </tbody>\n",
              "</table>\n",
              "</div>"
            ],
            "text/plain": [
              "   experiment_week_value  ...  store_identifier_value_revenue\n",
              "0                      7  ...                             572\n",
              "1                      7  ...                             572\n",
              "2                      7  ...                             572\n",
              "3                      7  ...                             572\n",
              "4                      7  ...                             572\n",
              "\n",
              "[5 rows x 12 columns]"
            ]
          },
          "metadata": {
            "tags": []
          },
          "execution_count": 12
        }
      ]
    },
    {
      "cell_type": "markdown",
      "metadata": {
        "id": "u6llZG05RcB2",
        "colab_type": "text"
      },
      "source": [
        "### Drop Column 'experiment_week_value' and 'experiment_week_value_revenue'\n",
        "* Droping column 'experiment_week_value' and 'experiment_week_value_revenue' as it is nearly a contant value"
      ]
    },
    {
      "cell_type": "code",
      "metadata": {
        "id": "1UbMAWZ82W8z",
        "colab_type": "code",
        "colab": {}
      },
      "source": [
        "data.drop('experiment_week_value', axis = 1, inplace=True)\n",
        "data.drop('experiment_week_value_revenue', axis = 1, inplace=True)"
      ],
      "execution_count": 0,
      "outputs": []
    },
    {
      "cell_type": "code",
      "metadata": {
        "id": "srK93k0_22Kb",
        "colab_type": "code",
        "outputId": "948f44d6-0d8f-4d76-a26d-cb952d9d8206",
        "colab": {
          "base_uri": "https://localhost:8080/",
          "height": 34
        }
      },
      "source": [
        "X_test = data.loc[:, data.columns]\n",
        "X_test.shape"
      ],
      "execution_count": 14,
      "outputs": [
        {
          "output_type": "execute_result",
          "data": {
            "text/plain": [
              "(20815581, 10)"
            ]
          },
          "metadata": {
            "tags": []
          },
          "execution_count": 14
        }
      ]
    },
    {
      "cell_type": "markdown",
      "metadata": {
        "id": "XWv_CYyURgBo",
        "colab_type": "text"
      },
      "source": [
        "## Generating Prediction File"
      ]
    },
    {
      "cell_type": "code",
      "metadata": {
        "id": "HUutcy-A3vtE",
        "colab_type": "code",
        "colab": {}
      },
      "source": [
        "def createSubmissionFile(m):\n",
        "  loaded_model = pickle.load(open(path+m+'.sav', 'rb'))\n",
        "  y_predicted = loaded_model.predict(X_test)\n",
        "  print('Predicted')\n",
        "\n",
        "  demand_projection = pd.DataFrame(y_predicted) \n",
        "  prediction = pd.concat([id, demand_projection],axis=1)\n",
        "  prediction.columns = ['id', 'demand_projection']\n",
        "  prediction.to_csv(path+m+'.csv',index=False)\n",
        "  print('Prediction saved')"
      ],
      "execution_count": 0,
      "outputs": []
    },
    {
      "cell_type": "code",
      "metadata": {
        "id": "AfcNLS0o4pAL",
        "colab_type": "code",
        "outputId": "4a6c9686-d9df-43fd-8e6e-29d20244d89d",
        "colab": {
          "base_uri": "https://localhost:8080/",
          "height": 51
        }
      },
      "source": [
        "#savedModels = ['linearRegressionUnitRevenue', 'decisionTreeUnitRevenue']\n",
        "savedModels = ['decisionTreeUnitRevenue']\n",
        "for m in savedModels:\n",
        "  createSubmissionFile(m)"
      ],
      "execution_count": 16,
      "outputs": [
        {
          "output_type": "stream",
          "text": [
            "Predicted\n",
            "Prediction saved\n"
          ],
          "name": "stdout"
        }
      ]
    },
    {
      "cell_type": "code",
      "metadata": {
        "id": "FFwQc5J91XT5",
        "colab_type": "code",
        "colab": {
          "base_uri": "https://localhost:8080/",
          "height": 34
        },
        "outputId": "0e19ac55-c535-4d9a-f82d-3d97da914dcc"
      },
      "source": [
        "rfCols = ['channel_type_value', 'product_identifier_value', 'category_of_route_value', 'supplier_identifier_value', 'store_identifier_value', 'supplier_identifier_value_revenue'] \n",
        "\n",
        "X_test = data.loc[:, rfCols]\n",
        "X_test.shape"
      ],
      "execution_count": 17,
      "outputs": [
        {
          "output_type": "execute_result",
          "data": {
            "text/plain": [
              "(20815581, 6)"
            ]
          },
          "metadata": {
            "tags": []
          },
          "execution_count": 17
        }
      ]
    },
    {
      "cell_type": "code",
      "metadata": {
        "id": "NtV0pVwb1ZZc",
        "colab_type": "code",
        "colab": {
          "base_uri": "https://localhost:8080/",
          "height": 51
        },
        "outputId": "5a517992-7fa6-49d6-dfa8-223291140f5b"
      },
      "source": [
        "savedModels = ['randomForestUnitRevenue']\n",
        "for m in savedModels:\n",
        "  createSubmissionFile(m)"
      ],
      "execution_count": 18,
      "outputs": [
        {
          "output_type": "stream",
          "text": [
            "Predicted\n",
            "Prediction saved\n"
          ],
          "name": "stdout"
        }
      ]
    }
  ]
}